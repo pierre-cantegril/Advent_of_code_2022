{
 "cells": [
  {
   "cell_type": "markdown",
   "source": [
    "# Day one"
   ],
   "metadata": {
    "collapsed": false
   }
  },
  {
   "cell_type": "markdown",
   "source": [
    "## Star one"
   ],
   "metadata": {
    "collapsed": false
   }
  },
  {
   "cell_type": "code",
   "execution_count": 17,
   "outputs": [],
   "source": [
    "src = input() # copy paste from https://adventofcode.com/2022/day/1/input"
   ],
   "metadata": {
    "collapsed": false
   }
  },
  {
   "cell_type": "code",
   "execution_count": 18,
   "outputs": [
    {
     "name": "stdout",
     "output_type": "stream",
     "text": [
      "68775\n"
     ]
    }
   ],
   "source": [
    "elves_calories = src.split('  ')\n",
    "for i, elf in enumerate(elves_calories):\n",
    "    elves_calories[i] = [int(calorie) for calorie in elf.split(' ')]\n",
    "\n",
    "elves_tot_calories = [sum(elf) for elf in elves_calories]\n",
    "print(max(elves_tot_calories))"
   ],
   "metadata": {
    "collapsed": false
   }
  },
  {
   "cell_type": "markdown",
   "source": [
    "## Star two"
   ],
   "metadata": {
    "collapsed": false
   }
  },
  {
   "cell_type": "code",
   "execution_count": 22,
   "outputs": [],
   "source": [
    "max_calorie_elves = []\n",
    "for i in range(3):\n",
    "    max_calorie = max(elves_tot_calories)\n",
    "    idx_max_calorie = elves_tot_calories.index(max_calorie)\n",
    "    max_calorie_elves.append(elves_tot_calories.pop(idx_max_calorie))"
   ],
   "metadata": {
    "collapsed": false
   }
  },
  {
   "cell_type": "code",
   "execution_count": 20,
   "outputs": [
    {
     "name": "stdout",
     "output_type": "stream",
     "text": [
      "202585\n"
     ]
    }
   ],
   "source": [
    "print(sum(max_calorie_elves))"
   ],
   "metadata": {
    "collapsed": false
   }
  },
  {
   "cell_type": "markdown",
   "source": [
    "# Day two"
   ],
   "metadata": {
    "collapsed": false
   }
  },
  {
   "cell_type": "code",
   "execution_count": 43,
   "outputs": [],
   "source": [
    "win_condition = {'Scissors': 'Paper',\n",
    "                 'Rock': 'Scissors',\n",
    "                 'Paper': 'Rock'}\n",
    "\n",
    "win_points = {'winner': 6,\n",
    "              'draw': 3,\n",
    "              'loser': 0}\n",
    "\n",
    "hand_points = {'Scissors': 3,\n",
    "               'Rock': 1,\n",
    "               'Paper': 2}"
   ],
   "metadata": {
    "collapsed": false
   }
  },
  {
   "cell_type": "markdown",
   "source": [
    "## Star one"
   ],
   "metadata": {
    "collapsed": false
   }
  },
  {
   "cell_type": "code",
   "execution_count": 44,
   "outputs": [],
   "source": [
    "with open('inputs/day_two.txt', 'r') as handle:\n",
    "    data = handle.read().split('\\n')"
   ],
   "metadata": {
    "collapsed": false
   }
  },
  {
   "cell_type": "code",
   "execution_count": 45,
   "outputs": [],
   "source": [
    "replace_dict = {'A': 'Rock',\n",
    "                'B': 'Paper',\n",
    "                'C': 'Scissors',\n",
    "                'X': 'Rock',\n",
    "                'Y': 'Paper',\n",
    "                'Z': 'Scissors'}\n",
    "\n",
    "for i, item in enumerate(data):\n",
    "    for before, after in replace_dict.items():\n",
    "        item = item.replace(before, after)\n",
    "    data[i] = item"
   ],
   "metadata": {
    "collapsed": false
   }
  },
  {
   "cell_type": "code",
   "execution_count": 46,
   "outputs": [
    {
     "name": "stdout",
     "output_type": "stream",
     "text": [
      "12276\n"
     ]
    }
   ],
   "source": [
    "own_points = 0\n",
    "for round in data:\n",
    "    opp_hand, own_hand = round.split()\n",
    "\n",
    "    # Points for victory\n",
    "    if opp_hand == own_hand: # Draw\n",
    "        outcome = 'draw'\n",
    "    elif win_condition[own_hand] == opp_hand:\n",
    "        outcome = 'winner'\n",
    "    elif win_condition[opp_hand] == own_hand:\n",
    "        outcome = 'loser'\n",
    "    else:\n",
    "        raise ValueError('Should not happen. Error in win_condition or hand name')\n",
    "\n",
    "    own_points += win_points[outcome]\n",
    "\n",
    "    # Points for hand\n",
    "    own_points += hand_points[own_hand]\n",
    "\n",
    "print(own_points)"
   ],
   "metadata": {
    "collapsed": false
   }
  },
  {
   "cell_type": "markdown",
   "source": [
    "## Star two"
   ],
   "metadata": {
    "collapsed": false
   }
  },
  {
   "cell_type": "code",
   "execution_count": 56,
   "outputs": [
    {
     "name": "stdout",
     "output_type": "stream",
     "text": [
      "9975\n"
     ]
    }
   ],
   "source": [
    "file = open('inputs/day_two.txt', 'r')\n",
    "f = file.readlines()\n",
    "\n",
    "score = 0\n",
    "rpsArray = [\n",
    "    'BX','CX','AX', #Loss\n",
    "    'AY','BY','CY', #Ties\n",
    "    'CZ','AZ','BZ' #Wins\n",
    "]\n",
    "\n",
    "for line in f:\n",
    "    line = line.strip().replace(\" \", \"\")\n",
    "    solution = rpsArray.index(line)\n",
    "    if solution > 2 and solution <= 5:\n",
    "        score += 3\n",
    "    elif solution > 5:\n",
    "        score += 6\n",
    "    score += (solution % 3) + 1\n",
    "\n",
    "\n",
    "print(score)"
   ],
   "metadata": {
    "collapsed": false
   }
  },
  {
   "cell_type": "code",
   "execution_count": null,
   "outputs": [],
   "source": [],
   "metadata": {
    "collapsed": false
   }
  }
 ],
 "metadata": {
  "kernelspec": {
   "display_name": "Python 3",
   "language": "python",
   "name": "python3"
  },
  "language_info": {
   "codemirror_mode": {
    "name": "ipython",
    "version": 2
   },
   "file_extension": ".py",
   "mimetype": "text/x-python",
   "name": "python",
   "nbconvert_exporter": "python",
   "pygments_lexer": "ipython2",
   "version": "2.7.6"
  }
 },
 "nbformat": 4,
 "nbformat_minor": 0
}
