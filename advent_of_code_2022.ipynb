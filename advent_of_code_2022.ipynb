{
 "cells": [
  {
   "cell_type": "markdown",
   "source": [
    "# Day one"
   ],
   "metadata": {
    "collapsed": false
   }
  },
  {
   "cell_type": "markdown",
   "source": [
    "## Star one"
   ],
   "metadata": {
    "collapsed": false
   }
  },
  {
   "cell_type": "code",
   "execution_count": 17,
   "outputs": [],
   "source": [
    "src = input() # copy paste from https://adventofcode.com/2022/day/1/input"
   ],
   "metadata": {
    "collapsed": false
   }
  },
  {
   "cell_type": "code",
   "execution_count": 18,
   "outputs": [
    {
     "name": "stdout",
     "output_type": "stream",
     "text": [
      "68775\n"
     ]
    }
   ],
   "source": [
    "elves_calories = src.split('  ')\n",
    "for i, elf in enumerate(elves_calories):\n",
    "    elves_calories[i] = [int(calorie) for calorie in elf.split(' ')]\n",
    "\n",
    "elves_tot_calories = [sum(elf) for elf in elves_calories]\n",
    "print(max(elves_tot_calories))"
   ],
   "metadata": {
    "collapsed": false
   }
  },
  {
   "cell_type": "markdown",
   "source": [
    "## Star two"
   ],
   "metadata": {
    "collapsed": false
   }
  },
  {
   "cell_type": "code",
   "execution_count": 19,
   "outputs": [
    {
     "ename": "SyntaxError",
     "evalue": "unexpected EOF while parsing (2762726366.py, line 6)",
     "output_type": "error",
     "traceback": [
      "\u001B[1;36m  File \u001B[1;32m\"C:\\Users\\CANPI4\\AppData\\Local\\Temp\\ipykernel_17052\\2762726366.py\"\u001B[1;36m, line \u001B[1;32m6\u001B[0m\n\u001B[1;33m    print(sum(max_calorie_elves)\u001B[0m\n\u001B[1;37m                                ^\u001B[0m\n\u001B[1;31mSyntaxError\u001B[0m\u001B[1;31m:\u001B[0m unexpected EOF while parsing\n"
     ]
    }
   ],
   "source": [
    "max_calorie_elves = []\n",
    "for i in range(3):\n",
    "    max_calorie = max(elves_tot_calories)\n",
    "    idx_max_calorie = elves_tot_calories.index(max_calorie)\n",
    "    max_calorie_elves.append(elves_tot_calories.pop(idx_max_calorie))\n"
   ],
   "metadata": {
    "collapsed": false
   }
  },
  {
   "cell_type": "code",
   "execution_count": 20,
   "outputs": [
    {
     "name": "stdout",
     "output_type": "stream",
     "text": [
      "202585\n"
     ]
    }
   ],
   "source": [
    "print(sum(max_calorie_elves))"
   ],
   "metadata": {
    "collapsed": false
   }
  },
  {
   "cell_type": "markdown",
   "source": [
    "# Day two"
   ],
   "metadata": {
    "collapsed": false
   }
  },
  {
   "cell_type": "code",
   "execution_count": null,
   "outputs": [],
   "source": [],
   "metadata": {
    "collapsed": false
   }
  }
 ],
 "metadata": {
  "kernelspec": {
   "display_name": "Python 3",
   "language": "python",
   "name": "python3"
  },
  "language_info": {
   "codemirror_mode": {
    "name": "ipython",
    "version": 2
   },
   "file_extension": ".py",
   "mimetype": "text/x-python",
   "name": "python",
   "nbconvert_exporter": "python",
   "pygments_lexer": "ipython2",
   "version": "2.7.6"
  }
 },
 "nbformat": 4,
 "nbformat_minor": 0
}
