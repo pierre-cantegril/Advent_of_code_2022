{
 "cells": [
  {
   "cell_type": "markdown",
   "source": [
    "# Day one"
   ],
   "metadata": {
    "collapsed": false
   }
  },
  {
   "cell_type": "markdown",
   "source": [
    "## Star one"
   ],
   "metadata": {
    "collapsed": false
   }
  },
  {
   "cell_type": "code",
   "execution_count": 17,
   "outputs": [],
   "source": [
    "src = input() # copy paste from https://adventofcode.com/2022/day/1/input"
   ],
   "metadata": {
    "collapsed": false
   }
  },
  {
   "cell_type": "code",
   "execution_count": 18,
   "outputs": [
    {
     "name": "stdout",
     "output_type": "stream",
     "text": [
      "68775\n"
     ]
    }
   ],
   "source": [
    "elves_calories = src.split('  ')\n",
    "for i, elf in enumerate(elves_calories):\n",
    "    elves_calories[i] = [int(calorie) for calorie in elf.split(' ')]\n",
    "\n",
    "elves_tot_calories = [sum(elf) for elf in elves_calories]\n",
    "print(max(elves_tot_calories))"
   ],
   "metadata": {
    "collapsed": false
   }
  },
  {
   "cell_type": "markdown",
   "source": [
    "## Star two"
   ],
   "metadata": {
    "collapsed": false
   }
  },
  {
   "cell_type": "code",
   "execution_count": 22,
   "outputs": [],
   "source": [
    "max_calorie_elves = []\n",
    "for i in range(3):\n",
    "    max_calorie = max(elves_tot_calories)\n",
    "    idx_max_calorie = elves_tot_calories.index(max_calorie)\n",
    "    max_calorie_elves.append(elves_tot_calories.pop(idx_max_calorie))"
   ],
   "metadata": {
    "collapsed": false
   }
  },
  {
   "cell_type": "code",
   "execution_count": 20,
   "outputs": [
    {
     "name": "stdout",
     "output_type": "stream",
     "text": [
      "202585\n"
     ]
    }
   ],
   "source": [
    "print(sum(max_calorie_elves))"
   ],
   "metadata": {
    "collapsed": false
   }
  },
  {
   "cell_type": "markdown",
   "source": [
    "# Day two"
   ],
   "metadata": {
    "collapsed": false
   }
  },
  {
   "cell_type": "code",
   "execution_count": 43,
   "outputs": [],
   "source": [
    "win_condition = {'Scissors': 'Paper',\n",
    "                 'Rock': 'Scissors',\n",
    "                 'Paper': 'Rock'}\n",
    "\n",
    "win_points = {'winner': 6,\n",
    "              'draw': 3,\n",
    "              'loser': 0}\n",
    "\n",
    "hand_points = {'Scissors': 3,\n",
    "               'Rock': 1,\n",
    "               'Paper': 2}"
   ],
   "metadata": {
    "collapsed": false
   }
  },
  {
   "cell_type": "markdown",
   "source": [
    "## Star one"
   ],
   "metadata": {
    "collapsed": false
   }
  },
  {
   "cell_type": "code",
   "execution_count": 44,
   "outputs": [],
   "source": [
    "with open('inputs/day_03.txt', 'r') as handle:\n",
    "    data = handle.read().split('\\n')"
   ],
   "metadata": {
    "collapsed": false
   }
  },
  {
   "cell_type": "code",
   "execution_count": 45,
   "outputs": [],
   "source": [
    "replace_dict = {'A': 'Rock',\n",
    "                'B': 'Paper',\n",
    "                'C': 'Scissors',\n",
    "                'X': 'Rock',\n",
    "                'Y': 'Paper',\n",
    "                'Z': 'Scissors'}\n",
    "\n",
    "for i, item in enumerate(data):\n",
    "    for before, after in replace_dict.items():\n",
    "        item = item.replace(before, after)\n",
    "    data[i] = item"
   ],
   "metadata": {
    "collapsed": false
   }
  },
  {
   "cell_type": "code",
   "execution_count": 46,
   "outputs": [
    {
     "name": "stdout",
     "output_type": "stream",
     "text": [
      "12276\n"
     ]
    }
   ],
   "source": [
    "own_points = 0\n",
    "for round in data:\n",
    "    opp_hand, own_hand = round.split()\n",
    "\n",
    "    # Points for victory\n",
    "    if opp_hand == own_hand: # Draw\n",
    "        outcome = 'draw'\n",
    "    elif win_condition[own_hand] == opp_hand:\n",
    "        outcome = 'winner'\n",
    "    elif win_condition[opp_hand] == own_hand:\n",
    "        outcome = 'loser'\n",
    "    else:\n",
    "        raise ValueError('Should not happen. Error in win_condition or hand name')\n",
    "\n",
    "    own_points += win_points[outcome]\n",
    "\n",
    "    # Points for hand\n",
    "    own_points += hand_points[own_hand]\n",
    "\n",
    "print(own_points)"
   ],
   "metadata": {
    "collapsed": false
   }
  },
  {
   "cell_type": "markdown",
   "source": [
    "## Star two"
   ],
   "metadata": {
    "collapsed": false
   }
  },
  {
   "cell_type": "code",
   "execution_count": 56,
   "outputs": [
    {
     "name": "stdout",
     "output_type": "stream",
     "text": [
      "9975\n"
     ]
    }
   ],
   "source": [
    "with open('inputs/day_02.txt', 'r') as handle:\n",
    "    f = handle.readlines()\n",
    "\n",
    "score = 0\n",
    "rpsArray = [\n",
    "    'BX','CX','AX', #Loss\n",
    "    'AY','BY','CY', #Ties\n",
    "    'CZ','AZ','BZ' #Wins\n",
    "]\n",
    "\n",
    "for line in f:\n",
    "    line = line.strip().replace(\" \", \"\")\n",
    "    solution = rpsArray.index(line)\n",
    "    if solution > 2 and solution <= 5:\n",
    "        score += 3\n",
    "    elif solution > 5:\n",
    "        score += 6\n",
    "    score += (solution % 3) + 1\n",
    "\n",
    "\n",
    "print(score)"
   ],
   "metadata": {
    "collapsed": false
   }
  },
  {
   "cell_type": "markdown",
   "source": [
    "# Day three"
   ],
   "metadata": {
    "collapsed": false
   }
  },
  {
   "cell_type": "code",
   "execution_count": 9,
   "outputs": [],
   "source": [
    "with open('inputs/day_03.txt', 'r') as handle:\n",
    "    data = handle.read().split('\\n')"
   ],
   "metadata": {
    "collapsed": false
   }
  },
  {
   "cell_type": "code",
   "execution_count": 11,
   "outputs": [
    {
     "data": {
      "text/plain": "['lDDWVvlVVQfDMlWjGJTRjQCgTGLCLj',\n 'ZLZpwzLBhwZhSLBsjntGCtgJRjbnJgSG',\n 'qppdZzzsdsmZphrNsNwZhllDHLcVVDWFPvFWcWdFlv',\n 'ztdhgJDBJghmQtPFQPpmbw',\n 'lVlLRcnfllcfVcccGnSQVLcsTPFbpwsPFspTSqmbpswpbF',\n 'cCHRGcGcCRGlGrGcVGnrdWHWBDzBNhhQZWWNBhJz',\n 'NfnSSQpdnRSSpvWdSsjZDGNDjGDwTGTjHG',\n 'wlPzPqzPFbMmqPCFCJmbsjbHLDDHDZjDjbGHsT',\n 'gwMlgmtmPcqVVvhVnvcRnn',\n 'cBNBBCHhbhNhblBcCCvcBHSwTwDQSqRwDQpDRsjHST',\n 'dPmzMVWdmmMnnZJtZVdqjTSrjTjrpQrsTTVwQRSj',\n 'qzmZMmdZPtnGqclblGlbGvgBFc',\n 'ZfpmNDfRhzbbqDnD',\n 'SFtFjTTZVTFvVTjHrsVvqGBJqhnSSnbJznLGJwJq',\n 'TjdPPtdMPPWCcZgW',\n 'qsbmGCsjHNhmhmhzTDznpnlQZlbWlZ',\n 'LTSSfSvggVVgBgfLtvvtTSczzpWnZQZnlnzpBcnWpQWc',\n 'FrLvrrrVPgdPftSHHdNsjTHjmGThhm',\n 'wGQlMjvMwpvjvZjZTZlWjplWJJTggDTgfCnntPgTJPbtPgSP',\n 'qNhJmcVmdJqhHnPnDNtnPDCg',\n 'LrrchqhRdLVzRdmhJcFFQWGGMjpGlvZzlQQv',\n 'ZqZMbZMfQZptpjlF',\n 'PJCggvHlwWHvSSvCJNvSPvDBtFDQThFQjtRQhhFTsVThQtsF',\n 'PwWCnBBCClcMMznMdG',\n 'rNwwQJrJrnQswrQrRRwCShBSLndZpdnhpGFSdhBp',\n 'PvzzWVzbclGFhLFGdZll',\n 'VWjPWvbjcVbVcGVzjcgzgwQQRRRrqwRJQwwstCRR',\n 'zjBMMzznjbssrBrMBbvHDmrlprlrpwGpwQDV',\n 'LhRwPPTLLNRZqScPWPWPTSmQvQQDGGdQHVDlmVpQGD',\n 'NtfhNwhLLNwRwRNcTBgnJMCBzsBFjsJfCz',\n 'jZjsWNDlPfClfMlM',\n 'GjqbVSqjhgvgSVSBCPmMmCmfpwTBfh',\n 'nGbjqtqcGzsLDFcJLs',\n 'ZQtmZdtdQcLndRncdQQLFjWWDHNPfhpnqhqsHNNDnpHs',\n 'TrMBGbJTwwlmDPPPWshWHfJq',\n 'wmVzbrwbwvBlBlVGtSVLSdFjdFtdjLVR',\n 'LBhZFhRPbbnPddMdPPlD',\n 'NQszQNczlCSlJSsg',\n 'mwmrVQwpQVWwTlvBpHHHFhZj',\n 'pzzDffWpQBzMpHvzMfRnTNhZdrdBcnLrcdrTLZ',\n 'msgJgtmbgmqJJcdrGcJjGn',\n 'bSVPgwntmVnngQWvWSSMpMMHWH',\n 'gmGMDHHdpngdrGmGcwbNCCnNcbbCSLwL',\n 'zQPPPffQQlVlsPFQFzQchZZbLZNVcbqbNqbZgq',\n 'PRjQzfRgRfjQBTfJQTlPFRHWmmvmWHGWrWvWWtjrdHpD',\n 'vfrHfqrLfLwwNHdvnthpnnFFpstn',\n 'gWcMclgmcRcWgDMWgBgGGFnntqQnGphdQhtbdFnh',\n 'qRWmRDlcDqWBBPwPNrZHrwSHjTfr',\n 'HVVbhdCdndhZSShMzRrzSM',\n 'qBjWqvtWvDJjTjjGJtJtnqBvZMrgSGZlgfSgSRrMQGQRMgMR',\n 'wmwtJsvjtTJwsNnVsHpdnsHdds',\n 'FCJNZDMPNCNvzqQJHqzGqv',\n 'hwjWcSTHwRpSWnQtGgQgGStgQQ',\n 'WpwhRHTRpcLRjwlwwTWBcWdlFbCrsPrrLCMDrZCFsCDPrZPM',\n 'DJjjShSGhGDSNdpfrWWcLFzrDWrDlF',\n 'wtqZgwMBBPVMCBPQggMwqMMzfLlWrWLLzsWcFzTzVTzLss',\n 'tgtwQqZBQQZbBZtPgbHpNJnJShcmJppSHh',\n 'tHrWmrdzzdHflmHmHrSmqswlqhqNgssMhGgghssn',\n 'pJcCBPPQPCcPpRpgwZNZBMnDhMsMBw',\n 'RJCvRRVcQpjLpCJPWrftWvSnrFffWbrz',\n 'jzlwwzDzTlQftzlWjfrBGBgVHBgpgBtPGVtP',\n 'vhsshbMbNhZpgZrrrpHcZr',\n 'qhdMqqSLSSbSJMqqSwwjzFzmjFQQFfHzLQ',\n 'gDhHNnphPPPNCprHFhHFdbdczzjNqbzjVcdbQTcc',\n 'tVJWBtVVZRWtjQbctjqcdj',\n 'RfvlGLvLLLlLMZBmZBRhHDVPnVHPHCgFCnhlpn',\n 'RFhZFTZvFdjlqqlRNCPwSSPCNPBSwC',\n 'spHGswpnWgJLLJCPGg',\n 'cWpDrVVbWfWbVfbsdQqcQzjjzlhdwqll',\n 'WWJPpQwWdQQPNpQvqlvvCblbvbvwLL',\n 'cmRMBMBTbSrTDRMcGBscTGfLZfvfvsCqhLlChZlLhfsC',\n 'TVbzGSMGVVgdpdPJpQ',\n 'lwsFfsZWGsGmsnlGQcPdBBdMbcPHfcCN',\n 'RVvSLtSTrTVrTFPcBdCHRcPHbNNb',\n 'LrqzLFTLrgSJLLLtTgJjVJvWlDDnjDWnWWlhlGWGhZWZhn',\n 'GQJCMGbrMbbCGrrGtcwhctGjNSvWpVVVRjNJqVqqBBRRJq',\n 'ssnglHHsnHzFmHnzHFPVDDSDRgVjvWDNpSSNpB',\n 'PZfHmndFzzfPZPZfCdwchwGcbwwhCdMW',\n 'DRGVQGmGQVnnGVmnnFpNbzCNRbRttCbpLztC',\n 'qdqHBdjTqPlcTchBjJMvvvLtLCcLggLvtmgb',\n 'fqhlHjdwqjjJTwldDmDmrGrrWFrDGZwD',\n 'wFscLVLrrVhwWgZPrcswgZWFTnQdtTMnpQtjdpqdqvqQMt',\n 'JRbHmmbDDSzDmDNpTnBBdpMHQtqtvp',\n 'JmCCbvRGzbbGJsLgZsVhgLwwGW',\n 'WDQwsBzWbBlMjdVpzTJVMj',\n 'fncRngntnPCpJgmdFpFWgm',\n 'RGZPZtZCfvWSvRZGSLvPccHwsrHbwHLrwHHQQsBDbllB',\n 'PlNZhwgpppccgrqVvttbBfrlls',\n 'CznSDDdHDRnRStVsVfDvfrtDZq',\n 'QCddZFSFLTmccQmw',\n 'rnwfVnclGPPFfSPSqBWZvvBBWqZvqWFh',\n 'zLgLQgJssspmQTJmsgjZNmqqzqdHbthDdDDWHbhqBBqb',\n 'QgmmjpNgCCZpjJLpmTrfrSrVRPfnrClfPwnS',\n 'zDzPPwvwqvPPBqjnqvDqBffSfcSNJpNVfccLLNffBR',\n 'MdTMZbgbmmTWGGdmssRCSNsSNVVVcJsNppsC',\n 'MJghbhHhbtMMdWhbJhHgdmWvnFzHDQPDjQDvHHwvQwvzwF',\n 'gGbqqRDrqDMdcBpVlpMG',\n 'WzhPCnWfqMcpBnnNLZ',\n 'fCqPHHJCfJhStwhWHbrrgvjFgbQbSbmbQs',\n 'fhcchnSpfsNpjVVqnqjrGHqq',\n 'zzlFLlPLWdggFqRBjqsrHrBTzz',\n 'FDwgFLZWlbbchpwshsCNcw',\n 'CmPlqqRJDHRDDsFv',\n 'MfSpBQQNNfBfrfVZsmVVdzzrHZmH',\n 'QSBSLSgmQBmwPCtgClhjPP',\n 'NPNsHHHNsPsvHwDqgpwlqt',\n 'rTRWSRrWRzgTzZrRVVLRQzjpbtmmGLlGDDbDwwmtblvDvw',\n 'nRzSRrjSVRrnjrgZfrfzNdPdMPBfBMhJhhBcPhcJ',\n 'LLhzQSDHDHNpNzHHJBQBMvMBqBRJBBqw',\n 'rmbdtmlWCCMnvJrn',\n 'FTVdmVgtjdtbWsvjjmdLSDcgHpDzShzDLPLSHh',\n 'VFFJQVWHtQVHHWbJRRRHwqPvpMLpLZZWLwlwMllL',\n 'jsngsdGssLvlqnZqZw',\n 'hhmfDjDsmDNjjNRNVqNVJRtQHJ',\n 'jvTnffrgFTwvqMzqGdMMSW',\n 'sPbCtCCQQLffZGdWNLWDDzLzGM',\n 'PQPBBtfZCZsmJPPplwwmTwpcTcmcgj',\n 'NBmBRCCsBTRNTndGdswnlwvwnw',\n 'fvbqrbPLqpGwScGGwbbb',\n 'HJDPJFJLJtpJHCvCFBBBBNNWvF',\n 'HJHgNQJBSlRRbJDRDb',\n 'RptsfnshscWMLMZDZp',\n 'njmrnPznnsTRTtPzFzRTswgQwqvVVwBNwwvjqCHqHq',\n 'CBMgBJCTNgQcsQspPpWjRrWrsWsn',\n 'mwLvHLGbdHbGzSHmvmvHzrhjjjPptjWGqZPPZhPRWWGP',\n 'vbbrLFwLFDJFDfFN',\n 'TnPvZSnQgQPHnnnQvgMSWppWNfWRpWfMtthMNDhN',\n 'wLJmLBmGFBFdLBbCBbVCVlsGsWhtHqthRRhqhtHHGqqf',\n 'LmHLbCjjBLVZzZSgzQgjrc',\n 'wdSwfpBhtFbStpftjSVhBwFrGrsQnQgnGrQmqCPmDrmmDb',\n 'zJvzLJLNZNscLzNHHLrGPvGGPrDDqGgDPDgC',\n 'RWsNNRMsHTHLHTlMczLHZLWtpFwfpthSjFtwFhjSVplwtj',\n 'QbrBDLGGRJMQJQJDbQbGvNscWNnTdvnvtnLcccvl',\n 'fqZgpVPZHPmfgPPjBFgcscvNNccdddtdNvdFTs',\n 'CgPpghfjjPgVmfBMMCRJQQJzJBwM',\n 'jLWDqLdWdwLfHwJwzSSfwS',\n 'gCgRRltMrlrCcCMzcBSVfZQfVNZNVSBVNNNh',\n 'gMrcPntccGgzgTMlMPrtDWFvLqqdLnDsmLLFFqvp',\n 'ttHJNccRRwmnsnHnHWMSwqfgvgfwSQZfQf',\n 'ShpLhhzTPBMpQqQgvM',\n 'zhbFjVdrjFjVljrVbdPddSTPHNssHnHlRNCHtRtsctJtGsRJ',\n 'zMVTscVhQhGGhClv',\n 'LfMJmgSBpLRfHmBPgpmJPSBdvQNtlHvrHvNNtNNNClGdGN',\n 'JFJmmSFFbFFbRJPBgFPmSBPMzzWWTDjjTsTqqwjVWbjjVVsZ',\n 'HZpCnwnggfFggbgLDcTb',\n 'SjvWjGzNGGzRjSGmMcLhvhMhFMCcmv',\n 'rjrVJNjVrzVNPrwtPwPCHBPB',\n 'SWwFbTzsSjPzpjFbsWPTWTcWLCLgLgLBZjGVDjCVBBgCBGCZ',\n 'lrJJttQcHqrHrvggHVBgBLffBC',\n 'lnhhcqNRJWzhTdsWFz',\n 'vzldvzlclbFjFvmtjZ',\n 'DDNMNStMsSsGnhSMwQjTQVgVbwMbVTTQ',\n 'DsDSCNNGpLtsNLpnNsqLppDzCBcdJHBzllcJfzJBPBdBlR',\n 'qWNfDvffbJBFDpNfmpbwhGhwjLgTrGwhbGGwrj',\n 'ZctMVCcVVQtTpthlnLtppw',\n 'QMcRSPMZcpCZqDFNRFHNJFFF',\n 'RmztpGSssNMzJRpCvqsCrqdHCBlBdw',\n 'gffPFDcqVbgqWgjlPlwCCrdBdllnBH',\n 'cFFZcbcqfQhgbcNJZRSMRtmNJptS',\n 'PZthPBWlPNPSPtmHHggFGgBJJbwg',\n 'qqzDvLLrfDpvvDLzqvnLzqpzbrCRGJRHwFCmHRwGwgwbbRCj',\n 'nnpnMfpMLTVqfmthmsMNSScMhS',\n 'dflvbdvpfffzpnNLNbWqtblqHjmVhVRhHrwrwrswhHnjsmwh',\n 'gSGMdMcJBgMTGPSPDVZhHhHZmDZhrwwjVm',\n 'CPJQGBGGPcSTFcTCScFtLLdWvptWLbNpNzvWQL',\n 'WThqhvvRDJDRhwcrscNDNFgDHNct',\n 'fnrZVnfVjrSGGLzZbnLzZLjVHstHHHQtgQbPpPcpHsscsFpN',\n 'SVjZSzZdndVCdSSZmTRvMWBRWvvWlrvmhJ',\n 'BcllhPPmMMBPcbRwgQtgHHgtmwgzmt',\n 'rpLqbrbTnNvqjLqLNqrNLvHzDtwpDCzFwggttFFHCQFQ',\n 'LrrrNLqjZSTsZZsvjbLjPhcBBlBsBcGPPcPlPVGP',\n 'HHhrggvSHDtCDsfF',\n 'ZMpLblppNZBDBwLzLLpMssCntfWdCFCnfCCtRNtq',\n 'lbmJlzzLMPMmlBzhSJVccSJhTvSTDh',\n 'sdjBBFqHscFnHTzCnRSnzgVTlC',\n 'LpWWtvZfrpbLpZpWftprLCCNMzCZMmmzTNNTmSSVSM',\n 'pLVtrtbGvpbpGLfPddHBscBQJJGcwsQq',\n 'hLcLnVVcfQBLZPVZnThfVVmjqjHNjgvNfdvpNdrrvvfp',\n 'lbRlWFHJtGNGpqmrqrCN',\n 'DzRRDFsbDtFtDJtWRztzJZVBQMhTsLhQZMZHVLcLcP',\n 'WgbdmgMmWDDvcPcpbz',\n 'jffpllHSpHRptRRGRntSVwvLSCCJDzcCcDLvCzPP',\n 'tRFrnlGfZrQpBpgQQsgF',\n 'TpbBZbCCHCGZNHbzGqgFdNlcFSdNlStSqg',\n 'wvWnWwLCPjJPJhMWtWdMfFSMgcdM',\n 'hhmvmJrJLJJJPvvhDjswCRGHHrHzBBHGVRQBzRRQ',\n 'zChCSBbpSsQscDHHQh',\n 'LNJJRgGltJDvfcrfgHfZ',\n 'lJNRGlLnNJtTGVMlFTbwSWqjBbzWWHSW',\n 'NDTJQDVwCTCJhVGDLfbBbBfbGqbfHBfBHb',\n 'lMgMrggMrmmtzMcgWdlmMlbsRjSRBsTRBWsSHSBTHRBj',\n 'cMPlgztzrPMznnMPpgddgdzpwDDNNwhNFCTwNZQFLTVTwV',\n 'ZgshQgzQnnwMtDwBwv',\n 'SFWFlFZRRcmlWmWRBCDwvwwftBtLmfLf',\n 'PjRFdTdWGddrGlPjcsJZpJzTqhzQJzNHhz',\n 'PgHQgddszgdGPWpMjljMcj',\n 'bSqTqnZLnDJSmnmZmtllGsnVtnWjGGWtjl',\n 'fqSLDbRSfBdHsRwsFdHd',\n 'RwHWZpCWhHvwvHCBMBpJMJGPJJnJgc',\n 'lztljTFljRRBBzBnBMnJMS',\n 'QbRljFtQfljbbFqNFrdZVrZfdCCwVwvddH',\n 'sHzztVzLTgnssPggHHsnCtzBmfBMrMccBBmqmrBqBCRqMf',\n 'ZhDQJhFDqjmSMrRF',\n 'dZpwDhNhhZpQJdDQpwnsGttGwLtRRTLRts',\n 'QJNhClVgPTTtPNCJJCtJhlNPZZRVZfvfzZzmvvzvsmZsvmzR',\n 'blBWBpdbLBDqBpszzffRsvdzjvvd',\n 'BLWpqBbqnDHqBbGlnWGBPcPJcHTTPrhtgNtCtgPc',\n 'jWVJqVwgsJcHCVlQVVQNBp',\n 'vGhGhTPtSSNCddSBCH',\n 'ZCCDtbDftZsqrrcnWW',\n 'hJThjThhVzVTZZwnNZRdgmzt',\n 'lrbSSddsrbPQpsvNtgPRmtHmvtnR',\n 'GQrspWdSGbDcsFFLBhCGVBjhjj',\n 'rHdlHdZDlTcflcNfcrCgcTWWpWQFsRWsFjRCsCjWCmhF',\n 'BnqbvQPLGLBPwqGmsVshsSWShGms',\n 'PzzPPQJPMJtJbbznPnDdrHlNldDNltrgtfDg',\n 'SmmMQhPSlmTwPpmnpllMSMPrccFDqFrDFGgqrDcCwfDgwq',\n 'bVdLLNvdQWVbJbQLVGfGDGfDgrFrqgqJgg',\n 'vjjWsbQdBsszhsHlhhPPSHsM',\n 'PqzJqNzsJgsgNqPdLJPPPNVpMMVWGlFWNFGMpWppGF',\n 'ZnZBjttQZcQZRTQDjQwGFlWMlGdGWVrWWlGn',\n 'ZRDBRSZDSdSLsqJHfSbzzL',\n 'rljJqtZlJqlJcvBNJBNQfQ',\n 'TVMWznvPMTFWznwPFFvwFbbBNBgbcNpQdNcBFQpb',\n 'mDnLWsPLvLMnnnmTzLzVCtlRRtjSljCZhDlhtqSq',\n 'fgWMHClGMWfgRWWWGCfmfgCSVQNTDFHTtddVQQDZNLDZtVVL',\n 'wSqbsvzpwpbpdFTNLQwLNTFN',\n 'zscjPnPqsJlmPJCJSC',\n 'GZSwQjGwGrCGwrTjdCTwdTBpqqlmNmVpNrNvplJqNNpl',\n 'zMfJnDcbRRDRFbzDFRLFBtqNmqqtNBmNBvNm',\n 'sHcJRRHzzfQTjjCjQjCH',\n 'wJCVVbJgCLCwGsMbbGTlsRWHsztZPZWtPrPrWrHzrz',\n 'DBqdvfqDBqFpWZFrtppZJp',\n 'djqNfQcjDQjMgbbwLjlJGn',\n 'TSwfZMfpQwcCCCCrbbCZ',\n 'PLJmGJnjqjrsCjMMVj',\n 'LnNNLLLnFFWmLFMGNMDgfRpDQSfwSfgQzBHwTS',\n 'CdjNCMmdCrVmCjJdVjFNMtMzhWwpGbpBhPZZZDbGPpDhpr',\n 'QSfHzlvgTQffSSHHclgfHnqPbPPPppBhpWDhwWvPhvbwwh',\n 'cQfQRgQnQsnsQSgHRQJsCFMsCjLzJJFjCdNC',\n 'ltLlJttmQdfVRhNmhB',\n 'gWWDrPSvCSWgMMMZBVBdTQPQZNZVPR',\n 'vCbwQzcQrCrLFHwJpHHGpp',\n 'VbRVvVHRbJVTzVLBVPtt',\n 'cSdgSZSZZFhnFcFwdDQcZZhgzpTlzLDzlWTvBWLztBtpLplT',\n 'hZZvdrcSZQZSSwncdHCqHmGHqJrCJqbNbq',\n 'lwWmsQlDbCZbVWZq',\n 'rRShhhhPjTsjTRvHhqfzqfqvBZZvBCZffC',\n 'scPThhRSjQmmNpplcg',\n 'FChtDTThDqZtjppjvgNvjl',\n 'LBwsVdVHLVvvpVGjjgjS',\n 'BbHLBfRcsHcBdMbdWJQPWFCQCZZhWrJPQp',\n 'zMtWCstzNrQLpbplFwQwhb',\n 'gDTDHGvvHVfVdGZVJGDGdnmbwmWFwfhpbnfjwwjpLl',\n 'GJcHVJdvZJVGZWHSSvTZMCzrzzRNSBtBNPBMqNBB',\n 'pLzZVVGGZmZVlmDsQglgsllc',\n 'WSvrjRjrMMFFnFjnrnrdjBRRgdsblQQPbpggsclNDDbPstDs',\n 'SMWRBrrrvSRBSSvWWWBTMTCqpZzLCCTCwJZwwzGZzqHL',\n 'TvfGwGZpPnSNgSSnGh',\n 'srLVHLcjsjVtHqjjrjFjcCqPBggqNQQnMqhgngnznNNB',\n 'VtdmPHLmtVHFLdmZWRJlWpWWWlmWfp',\n 'SbSbdTsrVrdhfSdDGJWGmNwWWPwTGP',\n 'BqlRpBMmllpmnpvvDJPZWPJwZcJgDD',\n 'FFRMCnRFtCMRlMplqMBRBppVbtzdrdhssrmHzVVSsVhVHz',\n 'dNrhhLsrshSmmRcPhm',\n 'WMCngCzCvzvMMpplQvzWlRBPcVStSmTSQbbVSPQmwm',\n 'MpzvWnllglJfqfMgsNdZHqNjdDsPHqqZ',\n 'rNvGZRsRcRRBtBCttB',\n 'DwPPQWnWWnPQnJlPhmTtBFBmqzhpmnFh',\n 'QwQQQlbPPMWwDdDwlVDJJPPdvdSjrjdrsgssLLsZLNBrNNNr',\n 'VjMMVzngnjQQfJDchZqGNqFPcg',\n 'SWBwTtWSFTHwFClHHmwBPcJJDhNGPJNPPhPPGhJt',\n 'CBvSBBBWHdmRTvRWRQFLQRnjnfLLzVbs',\n 'flSpvLlmZpCpZmVSBtlvHHjFHTdssZdjHFdTWdNh',\n 'RmQMQJRQJQmPgrzJrPcRQRJcWdNTGTGGFhGTdFhHThHGMTsF',\n 'RzJrqqcqPRqqJDDqttCpmtlwBpDflSLt',\n 'hBjPZbPBbWvTRnLRWntD',\n 'MNGQNsQwfzsdGfgTGfzQwwffmnCRDVmJLRLCvnvLDvJCDgRL',\n 'wTTdFldNHzTMljjFqphrBqhrZb',\n 'wDcMCbZbzPDcZDWQdrJLrQrZBLRBQr',\n 'FFSHStjtHgllgFdSNmlfFStBqRRssRsRJrLrjrrJBRVhLJ',\n 'fGggtfHtgWMwbCGdCT',\n 'RQrQDDbVGrRSfbVbGtmGtwHFWsCCzsJSJJHsJPJvWC',\n 'hphQnhZQNjlBBcMMpCsHwFjvvHWHWsFvjC',\n 'ppcnnBZqllTQfmrffbtGTDGt',\n 'dsDFsBZBhCFhshFrpBFnmLQmHmRgRbLqmmmRQDLm',\n 'PPBBNNNtGTwJNfTJffNttfLQgqLgHvHbqRwlgmblRvll',\n 'NSNTGTJTWPjGWMPSJJzrBSpzdFSddCFdncrs',\n 'bPzRlMPTzTMldJMnhswcjzfQVccQhc',\n 'HCCqNmNmQQmQssJn',\n 'pHptprtgRStTtMJt',\n 'nTmhrsPMsTfmHHGcSgtj',\n 'bJJwdlrJQLlvwlQDDwSbgffGVNjfgjNtVbcf',\n 'QlpDQFJdvdFqJdFpLvDFpLLnzZMnBMRRzMTqnrzqTRPznz',\n 'qRVRqBzgwqRpqRgVqQRPpQJJPrPhPGJnsGrCFdFJrZdG',\n 'ZvWDmMvmSvCndssrsJ',\n 'WcZcNWlcMjBQpzNTqVBp',\n 'DpLPZLDDlcgmDmhVgfgfWWRwhwwt',\n 'VrVMdbCrrBTjCMQQtMwQNSqMQW',\n 'VCBHdJHdvrrFsbsdrBJTdTzZcpmZGDGPlmzmlccFDZDn']"
     },
     "execution_count": 11,
     "metadata": {},
     "output_type": "execute_result"
    }
   ],
   "source": [
    "data"
   ],
   "metadata": {
    "collapsed": false
   }
  },
  {
   "cell_type": "code",
   "execution_count": 38,
   "outputs": [
    {
     "name": "stdout",
     "output_type": "stream",
     "text": [
      "7967\n"
     ]
    }
   ],
   "source": [
    "sum_priorities = 0\n",
    "for rucksack in data:\n",
    "    half_1 = set(rucksack[:len(rucksack)//2])\n",
    "    half_2 = set(rucksack[len(rucksack)//2:])\n",
    "\n",
    "    common_item = (half_1 & half_2).pop()\n",
    "\n",
    "    if common_item.isupper():\n",
    "        sum_priorities += ord(common_item) - ord('A') + 27 # ord('A') == 65, but should begin at 27 for this riddle\n",
    "    else:\n",
    "        sum_priorities += ord(common_item) - ord('a') + 1 # ord('a') == 96, but should begin at 1 for this riddle\n",
    "\n",
    "print(sum_priorities)"
   ],
   "metadata": {
    "collapsed": false
   }
  },
  {
   "cell_type": "markdown",
   "source": [
    "## Star two"
   ],
   "metadata": {
    "collapsed": false
   }
  },
  {
   "cell_type": "code",
   "execution_count": 56,
   "outputs": [
    {
     "name": "stdout",
     "output_type": "stream",
     "text": [
      "2716\n"
     ]
    }
   ],
   "source": [
    "sum_priorities = 0\n",
    "group_size = 3\n",
    "for i, rucksack in enumerate(data):\n",
    "    if not (i+1) % group_size == 1: continue\n",
    "\n",
    "    rucksacks = [set(data[i+n]) for n in range(group_size)]\n",
    "    common_item = set.intersection(*rucksacks).pop()\n",
    "\n",
    "    if common_item.isupper():\n",
    "        sum_priorities += ord(common_item) - ord('A') + 27 # ord('A') == 65, but should begin at 27 for this riddle\n",
    "    else:\n",
    "        sum_priorities += ord(common_item) - ord('a') + 1 # ord('a') == 96, but should begin at 1 for this riddle\n",
    "\n",
    "print(sum_priorities)"
   ],
   "metadata": {
    "collapsed": false
   }
  },
  {
   "cell_type": "markdown",
   "source": [
    "# Day Four"
   ],
   "metadata": {
    "collapsed": false
   }
  },
  {
   "cell_type": "code",
   "execution_count": null,
   "outputs": [],
   "source": [],
   "metadata": {
    "collapsed": false
   }
  }
 ],
 "metadata": {
  "kernelspec": {
   "display_name": "Python 3",
   "language": "python",
   "name": "python3"
  },
  "language_info": {
   "codemirror_mode": {
    "name": "ipython",
    "version": 2
   },
   "file_extension": ".py",
   "mimetype": "text/x-python",
   "name": "python",
   "nbconvert_exporter": "python",
   "pygments_lexer": "ipython2",
   "version": "2.7.6"
  }
 },
 "nbformat": 4,
 "nbformat_minor": 0
}
